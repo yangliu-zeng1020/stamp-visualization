{
 "cells": [
  {
   "cell_type": "code",
   "execution_count": 1,
   "metadata": {},
   "outputs": [],
   "source": [
    "import requests\n",
    "import pandas as pd\n",
    "import re\n",
    "import time\n",
    "import os\n",
    "from lxml import html\n",
    "import urllib.parse\n",
    "import glob\n",
    "import openai\n",
    "from tqdm.notebook import tqdm\n",
    "from pydantic import BaseModel, field_validator\n",
    "from datetime import datetime\n",
    "from openai import OpenAI"
   ]
  },
  {
   "cell_type": "markdown",
   "metadata": {},
   "source": [
    "# You need to turn on the VPN and use the OpenAI API key\n"
   ]
  },
  {
   "cell_type": "code",
   "execution_count": null,
   "metadata": {},
   "outputs": [],
   "source": [
    "# Create an OpenAI client instance (ensure your credentials are set up).\n",
    "from typing import List\n",
    "client = OpenAI(api_key=\"your openai apik key here\") \n",
    "\n",
    "\n",
    "class Stamp(BaseModel):\n",
    "    \"\"\"Represents a single stamp/bounding box in an image.\"\"\"\n",
    "    x: float  # X-coordinate of the top-left corner\n",
    "    y: float  # Y-coordinate of the top-left corner\n",
    "    width: float  # Width of the stamp\n",
    "    height: float  # Height of the stamp\n",
    "\n",
    "class StampDetectionResult(BaseModel):\n",
    "    \"\"\"Container for multiple stamps detected in an image.\"\"\"\n",
    "    stamps: List[Stamp] = []  # List of detected stamps\n",
    "\n",
    "    def add_stamp(self, x: float, y: float, width: float, height: float) -> None:\n",
    "        \"\"\"Helper method to add a stamp to the list.\"\"\"\n",
    "        self.stamps.append(Stamp(x=x, y=y, width=width, height=height))\n",
    "\n",
    "class StampInfo(BaseModel):\n",
    "    title: str\n",
    "    issue_date: str  # should be in 'yyyy-mm-dd' format\n",
    "    width_size: float\n",
    "    height_size: float\n",
    "    factory: str  # e.g. \"西川邮政管理局\"\n",
    "    designer: str  # Designer of the stamp\n",
    "    printing_method: str  # Printing method used for the stamp\n",
    "\n",
    "    @field_validator(\"issue_date\")\n",
    "    def validate_issue_date(cls, v):\n",
    "        try:\n",
    "            datetime.strptime(v, \"%Y-%m-%d\")\n",
    "        except ValueError:\n",
    "            raise ValueError(\"issue_date must be in 'yyyy-mm-dd' format\")\n",
    "        return v\n",
    "\n",
    "\n",
    "def extract_stamp_info(description):\n",
    "    \"\"\"\n",
    "    Uses OpenAI's Structured Outputs to extract stamp metadata from the description.\n",
    "    The model is instructed to extract the following keys:\n",
    "      - title\n",
    "      - issue_date\n",
    "      - width_size\n",
    "      - height_size\n",
    "      - designer\n",
    "      - printing_method\n",
    "      - factory\n",
    "      \n",
    "    \"\"\"\n",
    "    messages = [\n",
    "        {\n",
    "            \"role\": \"system\",\n",
    "            \"content\": (\n",
    "                \"Extract stamp metadata from the description and return JSON with these keys: \"\n",
    "                \"title, issue_date, width_size, height_size, factory, designer, and printing_method. \"\n",
    "                \"Sizes are in mm. If issue_date is just a year, append '-01-01' to complete the date.\"\n",
    "            ),\n",
    "        },\n",
    "        {\"role\": \"user\", \"content\": description},\n",
    "    ]\n",
    "\n",
    "    # Use the structured outputs feature via response_format\n",
    "    completion = client.beta.chat.completions.parse(\n",
    "        model=\"gpt-4o-2024-08-06\",\n",
    "        messages=messages,\n",
    "        # response_format=StampInfo,\n",
    "        response_format=StampDetectionResult\n",
    "    )\n",
    "    # The parsed response is available from the first choice\n",
    "    return completion.choices[0].message.parsed"
   ]
  },
  {
   "cell_type": "markdown",
   "metadata": {},
   "source": []
  }
 ],
 "metadata": {
  "kernelspec": {
   "display_name": "Python 3",
   "language": "python",
   "name": "python3"
  },
  "language_info": {
   "codemirror_mode": {
    "name": "ipython",
    "version": 3
   },
   "file_extension": ".py",
   "mimetype": "text/x-python",
   "name": "python",
   "nbconvert_exporter": "python",
   "pygments_lexer": "ipython3",
   "version": "3.13.0"
  }
 },
 "nbformat": 4,
 "nbformat_minor": 2
}
